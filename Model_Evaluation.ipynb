{
  "nbformat": 4,
  "nbformat_minor": 0,
  "metadata": {
    "colab": {
      "provenance": [],
      "authorship_tag": "ABX9TyN4qvkIVXSNi3xG0MKiYvVe",
      "include_colab_link": true
    },
    "kernelspec": {
      "name": "python3",
      "display_name": "Python 3"
    },
    "language_info": {
      "name": "python"
    }
  },
  "cells": [
    {
      "cell_type": "markdown",
      "metadata": {
        "id": "view-in-github",
        "colab_type": "text"
      },
      "source": [
        "<a href=\"https://colab.research.google.com/github/samriddhi-m1227/MachineLearning/blob/main/Model_Evaluation.ipynb\" target=\"_parent\"><img src=\"https://colab.research.google.com/assets/colab-badge.svg\" alt=\"Open In Colab\"/></a>"
      ]
    },
    {
      "cell_type": "markdown",
      "source": [
        "# Steps to follow the evaluation in the ML Model\n",
        "1. Data Preparation\n",
        "2. Train - Test Split\n",
        "3. Model Training\n",
        "4. Model Evaluation using Metrics\n",
        "5. Cross_validation\n",
        "6. Confusion Matrix\n",
        "7. Precision-Recall Curve\n",
        "8. ROC Curve"
      ],
      "metadata": {
        "id": "C57fnd8kF2ri"
      }
    },
    {
      "cell_type": "markdown",
      "source": [
        "## 1. Data Preparation"
      ],
      "metadata": {
        "id": "PRIQoeQTRSgB"
      }
    },
    {
      "cell_type": "code",
      "execution_count": 1,
      "metadata": {
        "id": "pwS_inkQK7OV"
      },
      "outputs": [],
      "source": [
        "#Importing all the important Libraries\n",
        "\n",
        "import pandas as pd\n",
        "import numpy as np\n",
        "import matplotlib.pyplot as plt\n",
        "import seaborn as sns\n",
        "\n",
        "#Model selection library\n",
        "from sklearn.model_selection import train_test_split, cross_val_score\n",
        "\n",
        "#Metrics Library\n",
        "from sklearn.metrics import(accuracy_score, precision_score, f1_score, confusion_matrix, recall_score, precision_recall_curve,\n",
        "roc_curve, roc_auc_score, mean_squared_error, mean_absolute_error, r2_score)\n",
        "\n",
        "from sklearn.linear_model import LinearRegression\n",
        "reg = LinearRegression()\n",
        "\n",
        "\n",
        "#Loading dataset\n",
        "from sklearn.datasets import load_iris, fetch_california_housing\n",
        "\n",
        "#Algorithm for Classification and Regression\n",
        "from sklearn.linear_model import LogisticRegression, LinearRegression\n"
      ]
    },
    {
      "cell_type": "markdown",
      "source": [
        "# Evaluation Metrics for Regression Model\n",
        "\n",
        "\n",
        "1. Mean Squared Errror (MSE) : Measures the squared difference between the actual and predicted value.\n",
        "\n",
        "2. Root Mean Squared Error (RMSE): Square roor of MSE\n",
        "\n",
        "3. Mean Absolute Error (MAE): Measures the average absolute differnece between the actual and predicted value. Less Sensitive to Outliers.\n",
        "\n",
        "4. R2 Score: Proprotions of Variance in the target variable whose values ranges from 0 to 1\n",
        "\n",
        "\n",
        "# Evaluation Metrics for Classification Model\n",
        "\n",
        "1. Acuuracy: Total porportions of the correctly classified data from the total classified data and can be misleading for imbalanced datasets.\n",
        "\n",
        "2. Precision: True positive out of total positive predictions, indicated how many are relevant.\n",
        "\n",
        "3. Recall (Sensitivity): How many relevant items are selected.\n",
        "\n",
        "4. F1_Score: Used for imbalanced dataset, to make balance between precision and recall.\n",
        "\n",
        "5. Receiver Opearting Characteristics (ROC) - Area Under Curve (AUC) Curve:\n",
        "Measures the models ability to distinguish between classes. AUC ranges between 0.5 (random) and 1 (perfect)."
      ],
      "metadata": {
        "id": "lSLEOJbnJTGw"
      }
    },
    {
      "cell_type": "markdown",
      "source": [
        "## 2. Train - Test Splitting"
      ],
      "metadata": {
        "id": "8yoG7S6XQM01"
      }
    },
    {
      "cell_type": "code",
      "source": [
        "#Classification - IRIS\n",
        "\n",
        "iris = load_iris()\n",
        "X_iris = iris.data\n",
        "y_iris = iris.target\n",
        "\n",
        "#Splitting into training and testing sets\n",
        "X_train_iris, X_test_iris, y_train_iris, y_test_iris = train_test_split(X_iris, y_iris, test_size=0.2, random_state= 40)"
      ],
      "metadata": {
        "id": "AQLZeVD8LNdr"
      },
      "execution_count": 2,
      "outputs": []
    },
    {
      "cell_type": "code",
      "source": [
        "#Regression - HOUSING\n",
        "\n",
        "house = fetch_california_housing()\n",
        "X_house = house.data\n",
        "y_house = house.target\n",
        "\n",
        "# Split into training and testing sets\n",
        "X_train_house, X_test_house, y_train_house, y_test_house = train_test_split(X_house, y_house, test_size=0.2,random_state=40)"
      ],
      "metadata": {
        "id": "rAz9ySTeLN91"
      },
      "execution_count": 3,
      "outputs": []
    },
    {
      "cell_type": "markdown",
      "source": [
        "## 3. Model Training"
      ],
      "metadata": {
        "id": "qAkrcNaIRO0w"
      }
    },
    {
      "cell_type": "code",
      "source": [
        "# Classification Model Training using Logistics\n",
        "clf=LogisticRegression(max_iter=200)\n",
        "clf.fit(X_train_iris, y_train_iris)\n",
        "\n",
        "#Prediction using test data\n",
        "y_pred_iris=clf.predict(X_test_iris)"
      ],
      "metadata": {
        "id": "ng2SwgKSLORi"
      },
      "execution_count": 4,
      "outputs": []
    },
    {
      "cell_type": "code",
      "source": [
        "# Regression Model Training using Linear\n",
        "reg=LinearRegression()\n",
        "reg.fit(X_train_house, y_train_house)\n",
        "\n",
        "#Prediction using test data\n",
        "y_pred_house=reg.predict(X_test_house)"
      ],
      "metadata": {
        "id": "-lf5Grd4NJM5"
      },
      "execution_count": 5,
      "outputs": []
    },
    {
      "cell_type": "markdown",
      "source": [
        "## 4. Model Evaluation using Metrics"
      ],
      "metadata": {
        "id": "1v543wcMN1Ym"
      }
    },
    {
      "cell_type": "code",
      "source": [
        "# Classification Metrics\n",
        "\n",
        "accuracy= accuracy_score(y_test_iris, y_pred_iris)\n",
        "precision= precision_score(y_test_iris, y_pred_iris, average='weighted')\n",
        "f1= f1_score(y_test_iris, y_pred_iris, average='weighted')\n",
        "recall= recall_score(y_test_iris, y_pred_iris, average='weighted')\n",
        "\n",
        "print(f\"Accuracy:  {accuracy}\")\n",
        "print(f\"Precision:  {precision}\")\n",
        "print(f\"Recall:  {recall}\")\n",
        "print(f\"F1:  {f1}\")\n"
      ],
      "metadata": {
        "colab": {
          "base_uri": "https://localhost:8080/"
        },
        "id": "VgslSgcQN88n",
        "outputId": "561b422e-3820-4652-f96b-1f06a8cd809d"
      },
      "execution_count": 6,
      "outputs": [
        {
          "output_type": "stream",
          "name": "stdout",
          "text": [
            "Accuracy:  1.0\n",
            "Precision:  1.0\n",
            "Recall:  1.0\n",
            "F1:  1.0\n"
          ]
        }
      ]
    },
    {
      "cell_type": "code",
      "source": [
        "#Regression Metrics\n",
        "\n",
        "mse=mean_squared_error(y_test_house,y_pred_house)\n",
        "rmse=mean_squared_error(y_test_house,y_pred_house, squared=False)\n",
        "mae=mean_absolute_error(y_test_house,y_pred_house)\n",
        "r2=r2_score(y_test_house,y_pred_house)\n",
        "\n",
        "print(f\"MSE: {mse}\")\n",
        "print(f\"RMSE: {rmse}\")\n",
        "print(f\"MAE: {mae}\")\n",
        "print(f\"R2: {r2}\")"
      ],
      "metadata": {
        "colab": {
          "base_uri": "https://localhost:8080/"
        },
        "id": "zAt8aInxQ2Z9",
        "outputId": "6d02ccd2-cf08-42ad-a627-d740bd161ba4"
      },
      "execution_count": 7,
      "outputs": [
        {
          "output_type": "stream",
          "name": "stdout",
          "text": [
            "MSE: 0.5417517275769279\n",
            "RMSE: 0.7360378574346077\n",
            "MAE: 0.5389572480555144\n",
            "R2: 0.6075794091011277\n"
          ]
        }
      ]
    },
    {
      "cell_type": "markdown",
      "source": [
        "# 5. Cross Validation"
      ],
      "metadata": {
        "id": "SQ_Vfq9AW-nk"
      }
    },
    {
      "cell_type": "code",
      "source": [
        "#Classification CV\n",
        "\n",
        "cv_class=cross_val_score(clf, X_iris, y_iris, cv=5)\n",
        "print(f\"Cross Validaton Score: {cv_class}\")\n",
        "print(f\"Mean CV Score: {cv_class.mean()}\")\n"
      ],
      "metadata": {
        "colab": {
          "base_uri": "https://localhost:8080/"
        },
        "id": "C6yGppcpW984",
        "outputId": "d594d979-ef4c-4cb5-ae6e-c0df11210eb5"
      },
      "execution_count": 8,
      "outputs": [
        {
          "output_type": "stream",
          "name": "stdout",
          "text": [
            "Cross Validaton Score: [0.96666667 1.         0.93333333 0.96666667 1.        ]\n",
            "Mean CV Score: 0.9733333333333334\n"
          ]
        }
      ]
    },
    {
      "cell_type": "code",
      "source": [
        "#Regression CV\n",
        "\n",
        "cv_reg = cross_val_score(reg, X_house, y_house, cv=5, scoring='neg_mean_squared_error')\n",
        "print(f\"Cross Validation Score: {cv_reg}\")\n",
        "print(f\"Mean CV Score: {cv_reg.mean()}\")"
      ],
      "metadata": {
        "colab": {
          "base_uri": "https://localhost:8080/"
        },
        "id": "qOSKscWVYrY6",
        "outputId": "c09f2473-02e7-40a5-9301-595d62d16b65"
      },
      "execution_count": 9,
      "outputs": [
        {
          "output_type": "stream",
          "name": "stdout",
          "text": [
            "Cross Validation Score: [-0.48485857 -0.62249739 -0.64621047 -0.5431996  -0.49468484]\n",
            "Mean CV Score: -0.5582901717686811\n"
          ]
        }
      ]
    },
    {
      "cell_type": "markdown",
      "source": [
        "# 6. Confusion Matrix\n",
        "\n",
        "1. True positive: All the correctly predicted positive results\n",
        "2. True negative: All the correctly predicted negative results.\n",
        "3. False positive (Type I error) : When the result is actually negative but prediction is positive.\n",
        "4. False Negative (Type II error) : When results are actually positive, but the prediction is negative."
      ],
      "metadata": {
        "id": "NayIvP1ddFhx"
      }
    },
    {
      "cell_type": "code",
      "source": [
        "#Classification CM\n",
        "\n",
        "cm=confusion_matrix(y_test_iris, y_pred_iris)\n",
        "sns.heatmap(cm, annot=True, fmt='d', cmap='Blues')\n",
        "plt.xlabel('Predicted')\n",
        "plt.ylabel('Actual')\n",
        "plt.title('Confusion Matrix')\n",
        "plt.show()\n"
      ],
      "metadata": {
        "colab": {
          "base_uri": "https://localhost:8080/",
          "height": 472
        },
        "id": "iPyu3T_yeMmr",
        "outputId": "42533f63-73a5-417f-e0f9-303a163f088d"
      },
      "execution_count": 10,
      "outputs": [
        {
          "output_type": "display_data",
          "data": {
            "text/plain": [
              "<Figure size 640x480 with 2 Axes>"
            ],
            "image/png": "[encoded data removed]"
          },
          "metadata": {}
        }
      ]
    },
    {
      "cell_type": "code",
      "source": [
        "cm_df=pd.DataFrame(cm, columns=['Predicted 0', 'Predicted 1', 'Predicted 2',], index=['Actual 0', 'Actual 1', 'Actual 2'])\n",
        "print(cm_df)"
      ],
      "metadata": {
        "colab": {
          "base_uri": "https://localhost:8080/"
        },
        "id": "LAazUu2ohuzT",
        "outputId": "1f1d342b-7774-46fa-c62c-e94d2a2bb703"
      },
      "execution_count": 11,
      "outputs": [
        {
          "output_type": "stream",
          "name": "stdout",
          "text": [
            "          Predicted 0  Predicted 1  Predicted 2\n",
            "Actual 0            8            0            0\n",
            "Actual 1            0           12            0\n",
            "Actual 2            0            0           10\n"
          ]
        }
      ]
    },
    {
      "cell_type": "markdown",
      "source": [
        "# 7. Precision Recall Curve"
      ],
      "metadata": {
        "id": "wFvZmOWCjrrE"
      }
    },
    {
      "cell_type": "code",
      "source": [
        "#Predict the probabilities of positive results\n",
        "scores= clf.predict_proba(X_test_iris)[:,1]\n",
        "\n",
        "#P_R pair value for different threshold\n",
        "pre, rec, thresholds = precision_recall_curve(y_test_iris, scores, pos_label = 1)\n",
        "\n",
        "plt.plot(thresholds, pre[:-1], 'b--', label='Precision')\n",
        "plt.plot(thresholds, rec[:-1],'g--',  label='Recall')\n",
        "plt.xlabel('Thresholds')\n",
        "plt.title('Precision_Recall_Curve')\n",
        "plt.show()"
      ],
      "metadata": {
        "colab": {
          "base_uri": "https://localhost:8080/",
          "height": 472
        },
        "id": "2rmkkvC_kC6l",
        "outputId": "c27635f4-29ef-4795-e5e3-4df9407ef9f3"
      },
      "execution_count": 12,
      "outputs": [
        {
          "output_type": "display_data",
          "data": {
            "text/plain": [
              "<Figure size 640x480 with 1 Axes>"
            ],
            "image/png": "[encoded data removed]"
          },
          "metadata": {}
        }
      ]
    }
  ]
}